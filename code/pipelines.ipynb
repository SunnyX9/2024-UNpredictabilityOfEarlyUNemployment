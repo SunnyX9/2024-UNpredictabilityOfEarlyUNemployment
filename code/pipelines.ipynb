{
 "cells": [
  {
   "cell_type": "code",
   "execution_count": null,
   "id": "cb458706",
   "metadata": {},
   "outputs": [],
   "source": [
    "import pandas as pd\n",
    "import numpy as np\n",
    "import sklearn\n",
    "import imblearn"
   ]
  },
  {
   "cell_type": "code",
   "execution_count": null,
   "id": "29aa1b5f",
   "metadata": {},
   "outputs": [],
   "source": [
    "from sklearn.preprocessing import StandardScaler\n",
    "from sklearn.impute import KNNImputer\n",
    "from sklearn.model_selection import train_test_split\n",
    "from sklearn.pipeline import Pipeline\n",
    "from sklearn.metrics import accuracy_score, f1_score, precision_score, recall_score, confusion_matrix, mean_squared_error\n",
    "\n",
    "from imblearn.over_sampling import SMOTE\n",
    "from imblearn.pipeline import Pipeline as ImbPipeline"
   ]
  },
  {
   "cell_type": "code",
   "execution_count": null,
   "id": "69d96e06",
   "metadata": {},
   "outputs": [],
   "source": [
    "# create indices for each fold, train and test\n",
    "from sklearn.model_selection import StratifiedKFold\n",
    "kfold = StratifiedKFold(n_splits=5, shuffle=True, random_state=42)"
   ]
  },
  {
   "cell_type": "code",
   "execution_count": null,
   "id": "f251c52a",
   "metadata": {},
   "outputs": [],
   "source": [
    "# create pipelines for all algorithms"
   ]
  },
  {
   "cell_type": "code",
   "execution_count": null,
   "id": "554db3a2",
   "metadata": {},
   "outputs": [],
   "source": [
    "# pipeline Dummy\n",
    "from sklearn.dummy import DummyClassifier\n",
    "\n",
    "pipeline_dumdum = ImbPipeline([\n",
    "    ('imputer', KNNImputer(n_neighbors=5)),\n",
    "    ('scaler', StandardScaler()),\n",
    "    ('sampler', SMOTE(random_state=seed, sampling_strategy='minority')),\n",
    "    ('model', DummyClassifier(strategy='most_frequent', random_state=seed)),\n",
    "])\n"
   ]
  },
  {
   "cell_type": "code",
   "execution_count": null,
   "id": "713e2484",
   "metadata": {},
   "outputs": [],
   "source": [
    "# pipeline Logistic\n",
    "from sklearn.linear_model import LogisticRegression\n",
    "\n",
    "pipeline_log = ImbPipeline([\n",
    "    ('imputer', KNNImputer(n_neighbors=5)),\n",
    "    ('scaler', StandardScaler()),\n",
    "    ('sampler', SMOTE(random_state=seed, sampling_strategy='minority')),\n",
    "    ('model', LogisticRegression(class_weight=None, random_state=seed))\n",
    "])"
   ]
  },
  {
   "cell_type": "code",
   "execution_count": null,
   "id": "3cb4ca50",
   "metadata": {},
   "outputs": [],
   "source": [
    "# pipeline CART\n",
    "from sklearn.tree import DecisionTreeClassifier\n",
    "\n",
    "pipeline_cart = ImbPipeline([\n",
    "    ('imputer', KNNImputer(n_neighbors=5)),\n",
    "    ('scaler', StandardScaler()),\n",
    "    ('sampler', SMOTE(random_state=seed, sampling_strategy='minority')),\n",
    "    ('model', DecisionTreeClassifier(class_weight=None, max_depth=10, min_samples_split=10, random_state=seed)),\n",
    "])"
   ]
  },
  {
   "cell_type": "code",
   "execution_count": null,
   "id": "2f9a7902",
   "metadata": {},
   "outputs": [],
   "source": [
    "# pipeline RF\n",
    "from sklearn.ensemble import RandomForestClassifier\n",
    "\n",
    "pipeline_rf = ImbPipeline([\n",
    "    ('imputer', KNNImputer(n_neighbors=5)),\n",
    "    ('scaler', StandardScaler()),\n",
    "    ('sampler', SMOTE(random_state=seed, sampling_strategy='minority')),\n",
    "    ('model', RandomForestClassifier(class_weight=None, max_depth=20, n_estimators=300, random_state=seed)),\n",
    "])"
   ]
  },
  {
   "cell_type": "code",
   "execution_count": null,
   "id": "c9cdb208",
   "metadata": {},
   "outputs": [],
   "source": [
    "# pipeline booster\n",
    "from sklearn.ensemble import HistGradientBoostingClassifier\n",
    "\n",
    "pipeline_boost = ImbPipeline([\n",
    "    ('imputer', KNNImputer(n_neighbors=5)),\n",
    "    ('scaler', StandardScaler()),\n",
    "    ('sampler', SMOTE(random_state=seed, sampling_strategy='minority')),\n",
    "    ('model', HistGradientBoostingClassifier(class_weight=None, max_depth=20, max_iter=300, random_state=seed))\n",
    "])"
   ]
  },
  {
   "cell_type": "code",
   "execution_count": null,
   "id": "37dd7d2c",
   "metadata": {},
   "outputs": [],
   "source": [
    "# make pipeline lists for training\n",
    "pipes_train = [pipeline_dumdum, pipeline_log, pipeline_cart, pipeline_rf, pipeline_boost]"
   ]
  },
  {
   "cell_type": "code",
   "execution_count": null,
   "id": "5ae9f7d9",
   "metadata": {},
   "outputs": [],
   "source": [
    "# loop through all models\n",
    "\n",
    "for idx, train_item in enumerate(pipes_train):\n",
    "    \n",
    "    # collect validation pipelines\n",
    "    val_pipeline = [] \n",
    "    \n",
    "    # cross validation sets\n",
    "    for i, (train_index, test_index) in enumerate(kfold.split(X, Y)): \n",
    "\n",
    "        X_train_fold = X.iloc[train_index]\n",
    "        X_test_fold = X.iloc[test_index]\n",
    "        y_train_fold = Y.iloc[train_index]\n",
    "        y_test_fold = Y.iloc[test_index]\n",
    "        y_train_fold = np.ravel(y_train_fold)\n",
    "        y_test_fold = np.ravel(y_test_fold)\n",
    "\n",
    "        # fit\n",
    "        model = train_item.fit(X_train_fold, y_train_fold)\n",
    "\n",
    "        # store validation pipeline\n",
    "        pipeline = ImbPipeline([\n",
    "            ('imputer', model.named_steps['imputer']),\n",
    "            ('scaler', model.named_steps['scaler']),\n",
    "            ('model', model.named_steps['model'])\n",
    "        ])\n",
    "        \n",
    "        val_pipeline.append(pipeline)\n",
    "        \n",
    "        # predict\n",
    "        y_pred = val_pipeline[i].predict(X_test_fold)\n",
    "    \n",
    "        # test\n",
    "        accuracy = accuracy_score(y_test_fold, y_pred)\n",
    "        f1 = f1_score(y_test_fold, y_pred, zero_division=0)\n",
    "        precision = precision_score(y_test_fold, y_pred, zero_division=0)\n",
    "        recall = recall_score(y_test_fold, y_pred)\n",
    "        mse = mean_squared_error(y_test_fold, y_pred)\n",
    "    \n",
    "        # confusion matrix\n",
    "        conf_matrix = confusion_matrix(y_test_fold, y_pred)\n",
    "        false_positive_rate = conf_matrix[0, 1] / (conf_matrix[0, 0] + conf_matrix[0, 1])\n",
    "        false_negative_rate = conf_matrix[1, 0] / (conf_matrix[1, 0] + conf_matrix[1, 1])\n"
   ]
  }
 ],
 "metadata": {
  "kernelspec": {
   "display_name": "Python 3 (ipykernel)",
   "language": "python",
   "name": "python3"
  },
  "language_info": {
   "codemirror_mode": {
    "name": "ipython",
    "version": 3
   },
   "file_extension": ".py",
   "mimetype": "text/x-python",
   "name": "python",
   "nbconvert_exporter": "python",
   "pygments_lexer": "ipython3",
   "version": "3.11.4"
  }
 },
 "nbformat": 4,
 "nbformat_minor": 5
}
