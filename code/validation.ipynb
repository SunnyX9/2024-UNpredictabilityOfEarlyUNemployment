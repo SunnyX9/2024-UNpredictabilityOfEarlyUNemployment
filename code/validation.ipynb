{
 "cells": [
  {
   "cell_type": "code",
   "execution_count": null,
   "id": "59678886",
   "metadata": {},
   "outputs": [],
   "source": [
    "import os\n",
    "\n",
    "num_models = 5\n",
    "num_folds = 5\n",
    "folder_path = \"folder_path_here\"\n",
    "all_pred_probs = []\n",
    "results = []\n",
    "\n",
    "for idx in range(num_models):\n",
    "    \n",
    "    for i in range(num_folds):\n",
    "\n",
    "        # predict\n",
    "        y_pred = model.predict(X_holdout)\n",
    "        y_pred_prob = model.predict_proba(X_holdout)[:, 1]\n",
    "        all_pred_probs.append(y_pred_prob)\n",
    "\n",
    "        # evaluate\n",
    "        accuracy = accuracy_score(Y_holdout, y_pred) \n",
    "        f1 = f1_score(Y_holdout, y_pred, zero_division=0)\n",
    "        precision = precision_score(Y_holdout, y_pred, zero_division=0)\n",
    "        recall = recall_score(Y_holdout, y_pred)\n",
    "        mse = mean_squared_error(Y_holdout, y_pred)\n",
    "\n",
    "        # confusion matrix\n",
    "        conf_matrix = confusion_matrix(Y_holdout, y_pred)\n",
    "        false_positive_rate = conf_matrix[0, 1] / (conf_matrix[0, 0] + conf_matrix[0, 1])\n",
    "        false_negative_rate = conf_matrix[1, 0] / (conf_matrix[1, 0] + conf_matrix[1, 1])\n",
    "\n",
    "        # results to list\n",
    "        results.append({\n",
    "            'Model': idx,\n",
    "            'Fold': i,\n",
    "            'Accuracy': accuracy,\n",
    "            'F1 Score': f1,\n",
    "            'Precision': precision,\n",
    "            'Recall': recall,\n",
    "            'MSE': mse,\n",
    "            'False Positive Rate': false_positive_rate,\n",
    "            'False Negative Rate': false_negative_rate\n",
    "        })\n",
    "\n",
    "# df\n",
    "results_df = pd.DataFrame(results)\n"
   ]
  }
 ],
 "metadata": {
  "kernelspec": {
   "display_name": "Python 3 (ipykernel)",
   "language": "python",
   "name": "python3"
  },
  "language_info": {
   "codemirror_mode": {
    "name": "ipython",
    "version": 3
   },
   "file_extension": ".py",
   "mimetype": "text/x-python",
   "name": "python",
   "nbconvert_exporter": "python",
   "pygments_lexer": "ipython3",
   "version": "3.11.4"
  }
 },
 "nbformat": 4,
 "nbformat_minor": 5
}
