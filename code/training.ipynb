{
 "cells": [
  {
   "cell_type": "code",
   "execution_count": null,
   "id": "f251c52a",
   "metadata": {},
   "outputs": [],
   "source": [
    "# create pipelines for all algorithms"
   ]
  },
  {
   "cell_type": "code",
   "execution_count": null,
   "id": "713e2484",
   "metadata": {},
   "outputs": [],
   "source": [
    "# pipeline logistic\n",
    "\n",
    "from sklearn.linear_model import LogisticRegression\n",
    "\n",
    "pipeline_log = ImbPipeline([\n",
    "    ('imputer', KNNImputer(n_neighbors=5)),\n",
    "    ('scaler', StandardScaler()),\n",
    "    ('sampler', SMOTE(random_state=42, sampling_strategy='minority')),\n",
    "    ('model', LogisticRegression(class_weight=None, random_state=42))\n",
    "])\n"
   ]
  },
  {
   "cell_type": "code",
   "execution_count": null,
   "id": "3cb4ca50",
   "metadata": {},
   "outputs": [],
   "source": [
    "# pipeline CART\n",
    "\n",
    "from sklearn.tree import DecisionTreeClassifier\n",
    "\n",
    "pipeline_cart = ImbPipeline([\n",
    "    ('imputer', KNNImputer(n_neighbors=5)),\n",
    "    ('scaler', StandardScaler()),\n",
    "    ('sampler', SMOTE(random_state=42, sampling_strategy='minority')),\n",
    "    ('model', DecisionTreeClassifier(class_weight=None, max_depth=10, min_samples_split=10, random_state=42)),\n",
    "])\n"
   ]
  },
  {
   "cell_type": "code",
   "execution_count": null,
   "id": "2f9a7902",
   "metadata": {},
   "outputs": [],
   "source": [
    "# pipeline RF\n",
    "\n",
    "from sklearn.ensemble import RandomForestClassifier\n",
    "\n",
    "pipeline_rf = ImbPipeline([\n",
    "    ('imputer', KNNImputer(n_neighbors=5)),\n",
    "    ('scaler', StandardScaler()),\n",
    "    ('sampler', SMOTE(random_state=42, sampling_strategy='minority')),\n",
    "    ('model', RandomForestClassifier(class_weight=None, max_depth=20, n_estimators=300, random_state=42)),\n",
    "])"
   ]
  },
  {
   "cell_type": "code",
   "execution_count": null,
   "id": "c9cdb208",
   "metadata": {},
   "outputs": [],
   "source": [
    "# pipeline booster\n",
    "\n",
    "from sklearn.ensemble import HistGradientBoostingClassifier\n",
    "\n",
    "pipeline_boost = ImbPipeline([\n",
    "    ('imputer', KNNImputer(n_neighbors=5)),\n",
    "    ('scaler', StandardScaler()),\n",
    "    ('sampler', SMOTE(random_state=42, sampling_strategy='minority')),\n",
    "    ('model', HistGradientBoostingClassifier(class_weight=None, max_depth=20, max_iter=300, random_state=42))\n",
    "])\n"
   ]
  },
  {
   "cell_type": "code",
   "execution_count": null,
   "id": "37dd7d2c",
   "metadata": {},
   "outputs": [],
   "source": [
    "# make pipeline list for training\n",
    "\n",
    "pipes_train = [pipeline_log, pipeline_cart, pipeline_rf, pipeline_boost]"
   ]
  },
  {
   "cell_type": "code",
   "execution_count": null,
   "id": "10ba5499",
   "metadata": {},
   "outputs": [],
   "source": [
    "# cross validate 5-fold\n",
    "# create indices for each fold, train and test\n",
    "\n",
    "from sklearn.model_selection import StratifiedKFold\n",
    "\n",
    "kfold = StratifiedKFold(n_splits=5, shuffle=True, random_state=seed)\n",
    "\n",
    "for i, (train_index, test_index) in enumerate(kfold.split(X, Y)):\n",
    "    print(f\"Fold {i}:\")\n",
    "    print(f\"  Train: index={train_index}\")\n",
    "    print(f\"  Test:  index={test_index}\")"
   ]
  },
  {
   "cell_type": "code",
   "execution_count": null,
   "id": "5ae9f7d9",
   "metadata": {},
   "outputs": [],
   "source": [
    "# loop through all models\n",
    "\n",
    "val_pipeline = []\n",
    "\n",
    "for idx, train_item in enumerate(pipes_train):\n",
    "    \n",
    "    for i, (train_index, test_index) in enumerate(kfold.split(X, Y)):\n",
    "\n",
    "        X_train_fold = X.iloc[train_index]\n",
    "        X_test_fold = X.iloc[test_index]\n",
    "        y_train_fold = Y.iloc[train_index]\n",
    "        y_test_fold = Y.iloc[test_index]\n",
    "        y_train_fold = np.ravel(y_train_fold)\n",
    "        y_test_fold = np.ravel(y_test_fold)\n",
    "\n",
    "        # train\n",
    "        model = train_item.fit(X_train_fold, y_train_fold)\n",
    "        \n",
    "        # store validation pipeline\n",
    "        pipeline = ImbPipeline([\n",
    "            ('imputer', model.named_steps['imputer']),\n",
    "            ('scaler', model.named_steps['scaler']),\n",
    "            ('model', model.named_steps['model'])\n",
    "        ])\n",
    "        \n",
    "        val_pipeline.append(pipeline)\n",
    "        \n",
    "        # predict\n",
    "        y_pred = val_pipeline[i].predict(X_test_fold)\n",
    "        y_pred_proba = val_pipeline[i].predict_proba(X_test_fold)[:, 1]\n",
    "    \n",
    "        # test\n",
    "        accuracy = accuracy_score(y_test_fold, y_pred)\n",
    "        f1 = f1_score(y_test_fold, y_pred, zero_division=0)\n",
    "        precision = precision_score(y_test_fold, y_pred, zero_division=0)\n",
    "        recall = recall_score(y_test_fold, y_pred)\n",
    "        mse = mean_squared_error(y_test_fold, y_pred)\n",
    "    \n",
    "        # confusion matrix\n",
    "        conf_matrix = confusion_matrix(y_test_fold, y_pred)\n",
    "        false_positive_rate = conf_matrix[0, 1] / (conf_matrix[0, 0] + conf_matrix[0, 1])\n",
    "        false_negative_rate = conf_matrix[1, 0] / (conf_matrix[1, 0] + conf_matrix[1, 1])\n"
   ]
  }
 ],
 "metadata": {
  "kernelspec": {
   "display_name": "Python 3 (ipykernel)",
   "language": "python",
   "name": "python3"
  },
  "language_info": {
   "codemirror_mode": {
    "name": "ipython",
    "version": 3
   },
   "file_extension": ".py",
   "mimetype": "text/x-python",
   "name": "python",
   "nbconvert_exporter": "python",
   "pygments_lexer": "ipython3",
   "version": "3.11.4"
  }
 },
 "nbformat": 4,
 "nbformat_minor": 5
}
